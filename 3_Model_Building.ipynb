{
 "cells": [
  {
   "cell_type": "code",
   "execution_count": 25,
   "metadata": {},
   "outputs": [],
   "source": [
    "%matplotlib inline\n",
    "\n",
    "import pickle\n",
    "import copy\n",
    "import time\n",
    "import warnings\n",
    "warnings.filterwarnings('ignore')\n",
    "\n",
    "import pandas as pd\n",
    "import numpy as np\n",
    "import networkx as nx\n",
    "\n",
    "import seaborn as sn\n",
    "import matplotlib.pyplot as plt\n",
    "\n",
    "# GridSearchCV is a technique for finding the optimal parameter values from a given set of parameters in a grid.\n",
    "# Stratified K-Folds cross-validator. Provides train/test indices to split data in train/test sets\n",
    "from sklearn.model_selection import train_test_split, GridSearchCV, StratifiedKFold\n",
    "from sklearn.linear_model import LogisticRegression\n",
    "from sklearn.ensemble import RandomForestClassifier\n",
    "from sklearn import svm\n",
    "from sklearn.metrics import classification_report, confusion_matrix\n",
    "from sklearn.tree import DecisionTreeClassifier\n",
    "from sklearn.ensemble import AdaBoostClassifier\n",
    "from sklearn.model_selection import RepeatedStratifiedKFold\n"
   ]
  },
  {
   "cell_type": "code",
   "execution_count": 2,
   "metadata": {
    "scrolled": false
   },
   "outputs": [
    {
     "data": {
      "text/html": [
       "<div>\n",
       "<style scoped>\n",
       "    .dataframe tbody tr th:only-of-type {\n",
       "        vertical-align: middle;\n",
       "    }\n",
       "\n",
       "    .dataframe tbody tr th {\n",
       "        vertical-align: top;\n",
       "    }\n",
       "\n",
       "    .dataframe thead th {\n",
       "        text-align: right;\n",
       "    }\n",
       "</style>\n",
       "<table border=\"1\" class=\"dataframe\">\n",
       "  <thead>\n",
       "    <tr style=\"text-align: right;\">\n",
       "      <th></th>\n",
       "      <th>Source</th>\n",
       "      <th>Destination</th>\n",
       "      <th>Class</th>\n",
       "      <th>Page_Rank_Src</th>\n",
       "      <th>Page_Rank_Dst</th>\n",
       "      <th>Shortest_Path</th>\n",
       "      <th>Follows_Back</th>\n",
       "      <th>Followers_Src</th>\n",
       "      <th>Followees_Src</th>\n",
       "      <th>Followers_Dst</th>\n",
       "      <th>Followees_Dst</th>\n",
       "      <th>Int_Followers</th>\n",
       "      <th>Int_Followees</th>\n",
       "    </tr>\n",
       "  </thead>\n",
       "  <tbody>\n",
       "    <tr>\n",
       "      <th>0</th>\n",
       "      <td>6194</td>\n",
       "      <td>255</td>\n",
       "      <td>1</td>\n",
       "      <td>0.000010</td>\n",
       "      <td>0.000040</td>\n",
       "      <td>6</td>\n",
       "      <td>0</td>\n",
       "      <td>0</td>\n",
       "      <td>4</td>\n",
       "      <td>1</td>\n",
       "      <td>3</td>\n",
       "      <td>0</td>\n",
       "      <td>0</td>\n",
       "    </tr>\n",
       "    <tr>\n",
       "      <th>1</th>\n",
       "      <td>6194</td>\n",
       "      <td>980</td>\n",
       "      <td>1</td>\n",
       "      <td>0.000010</td>\n",
       "      <td>0.000012</td>\n",
       "      <td>-1</td>\n",
       "      <td>0</td>\n",
       "      <td>0</td>\n",
       "      <td>4</td>\n",
       "      <td>0</td>\n",
       "      <td>15</td>\n",
       "      <td>0</td>\n",
       "      <td>1</td>\n",
       "    </tr>\n",
       "    <tr>\n",
       "      <th>2</th>\n",
       "      <td>6194</td>\n",
       "      <td>2992</td>\n",
       "      <td>1</td>\n",
       "      <td>0.000010</td>\n",
       "      <td>0.000022</td>\n",
       "      <td>4</td>\n",
       "      <td>0</td>\n",
       "      <td>0</td>\n",
       "      <td>4</td>\n",
       "      <td>2</td>\n",
       "      <td>0</td>\n",
       "      <td>0</td>\n",
       "      <td>0</td>\n",
       "    </tr>\n",
       "    <tr>\n",
       "      <th>3</th>\n",
       "      <td>6194</td>\n",
       "      <td>2507</td>\n",
       "      <td>1</td>\n",
       "      <td>0.000010</td>\n",
       "      <td>0.000018</td>\n",
       "      <td>3</td>\n",
       "      <td>0</td>\n",
       "      <td>0</td>\n",
       "      <td>4</td>\n",
       "      <td>8</td>\n",
       "      <td>14</td>\n",
       "      <td>0</td>\n",
       "      <td>0</td>\n",
       "    </tr>\n",
       "    <tr>\n",
       "      <th>4</th>\n",
       "      <td>6194</td>\n",
       "      <td>986</td>\n",
       "      <td>1</td>\n",
       "      <td>0.000010</td>\n",
       "      <td>0.000031</td>\n",
       "      <td>-1</td>\n",
       "      <td>0</td>\n",
       "      <td>0</td>\n",
       "      <td>4</td>\n",
       "      <td>0</td>\n",
       "      <td>19</td>\n",
       "      <td>0</td>\n",
       "      <td>0</td>\n",
       "    </tr>\n",
       "    <tr>\n",
       "      <th>5</th>\n",
       "      <td>6194</td>\n",
       "      <td>4003</td>\n",
       "      <td>1</td>\n",
       "      <td>0.000010</td>\n",
       "      <td>0.000022</td>\n",
       "      <td>-1</td>\n",
       "      <td>0</td>\n",
       "      <td>0</td>\n",
       "      <td>4</td>\n",
       "      <td>5</td>\n",
       "      <td>4</td>\n",
       "      <td>0</td>\n",
       "      <td>0</td>\n",
       "    </tr>\n",
       "    <tr>\n",
       "      <th>6</th>\n",
       "      <td>0</td>\n",
       "      <td>82</td>\n",
       "      <td>1</td>\n",
       "      <td>0.000010</td>\n",
       "      <td>0.000043</td>\n",
       "      <td>-1</td>\n",
       "      <td>0</td>\n",
       "      <td>0</td>\n",
       "      <td>0</td>\n",
       "      <td>0</td>\n",
       "      <td>2</td>\n",
       "      <td>0</td>\n",
       "      <td>0</td>\n",
       "    </tr>\n",
       "    <tr>\n",
       "      <th>7</th>\n",
       "      <td>15</td>\n",
       "      <td>343</td>\n",
       "      <td>1</td>\n",
       "      <td>0.000023</td>\n",
       "      <td>0.000022</td>\n",
       "      <td>-1</td>\n",
       "      <td>0</td>\n",
       "      <td>0</td>\n",
       "      <td>3</td>\n",
       "      <td>0</td>\n",
       "      <td>17</td>\n",
       "      <td>0</td>\n",
       "      <td>1</td>\n",
       "    </tr>\n",
       "    <tr>\n",
       "      <th>8</th>\n",
       "      <td>15</td>\n",
       "      <td>4282</td>\n",
       "      <td>1</td>\n",
       "      <td>0.000023</td>\n",
       "      <td>0.000044</td>\n",
       "      <td>4</td>\n",
       "      <td>0</td>\n",
       "      <td>0</td>\n",
       "      <td>3</td>\n",
       "      <td>16</td>\n",
       "      <td>15</td>\n",
       "      <td>0</td>\n",
       "      <td>0</td>\n",
       "    </tr>\n",
       "    <tr>\n",
       "      <th>9</th>\n",
       "      <td>15</td>\n",
       "      <td>5442</td>\n",
       "      <td>1</td>\n",
       "      <td>0.000023</td>\n",
       "      <td>0.000082</td>\n",
       "      <td>5</td>\n",
       "      <td>0</td>\n",
       "      <td>0</td>\n",
       "      <td>3</td>\n",
       "      <td>5</td>\n",
       "      <td>0</td>\n",
       "      <td>0</td>\n",
       "      <td>0</td>\n",
       "    </tr>\n",
       "    <tr>\n",
       "      <th>10</th>\n",
       "      <td>15</td>\n",
       "      <td>1162</td>\n",
       "      <td>1</td>\n",
       "      <td>0.000023</td>\n",
       "      <td>0.000029</td>\n",
       "      <td>-1</td>\n",
       "      <td>0</td>\n",
       "      <td>0</td>\n",
       "      <td>3</td>\n",
       "      <td>0</td>\n",
       "      <td>11</td>\n",
       "      <td>0</td>\n",
       "      <td>0</td>\n",
       "    </tr>\n",
       "    <tr>\n",
       "      <th>11</th>\n",
       "      <td>15</td>\n",
       "      <td>3401</td>\n",
       "      <td>1</td>\n",
       "      <td>0.000023</td>\n",
       "      <td>0.000685</td>\n",
       "      <td>5</td>\n",
       "      <td>0</td>\n",
       "      <td>0</td>\n",
       "      <td>3</td>\n",
       "      <td>176</td>\n",
       "      <td>212</td>\n",
       "      <td>0</td>\n",
       "      <td>0</td>\n",
       "    </tr>\n",
       "    <tr>\n",
       "      <th>12</th>\n",
       "      <td>7106</td>\n",
       "      <td>6211</td>\n",
       "      <td>1</td>\n",
       "      <td>0.000041</td>\n",
       "      <td>0.000024</td>\n",
       "      <td>-1</td>\n",
       "      <td>0</td>\n",
       "      <td>0</td>\n",
       "      <td>1</td>\n",
       "      <td>0</td>\n",
       "      <td>8</td>\n",
       "      <td>0</td>\n",
       "      <td>0</td>\n",
       "    </tr>\n",
       "    <tr>\n",
       "      <th>13</th>\n",
       "      <td>7106</td>\n",
       "      <td>6611</td>\n",
       "      <td>1</td>\n",
       "      <td>0.000041</td>\n",
       "      <td>0.000270</td>\n",
       "      <td>3</td>\n",
       "      <td>0</td>\n",
       "      <td>0</td>\n",
       "      <td>1</td>\n",
       "      <td>33</td>\n",
       "      <td>0</td>\n",
       "      <td>0</td>\n",
       "      <td>0</td>\n",
       "    </tr>\n",
       "    <tr>\n",
       "      <th>14</th>\n",
       "      <td>7106</td>\n",
       "      <td>1348</td>\n",
       "      <td>1</td>\n",
       "      <td>0.000041</td>\n",
       "      <td>0.000025</td>\n",
       "      <td>-1</td>\n",
       "      <td>0</td>\n",
       "      <td>0</td>\n",
       "      <td>1</td>\n",
       "      <td>0</td>\n",
       "      <td>0</td>\n",
       "      <td>0</td>\n",
       "      <td>0</td>\n",
       "    </tr>\n",
       "    <tr>\n",
       "      <th>15</th>\n",
       "      <td>7106</td>\n",
       "      <td>2239</td>\n",
       "      <td>1</td>\n",
       "      <td>0.000041</td>\n",
       "      <td>0.000022</td>\n",
       "      <td>-1</td>\n",
       "      <td>0</td>\n",
       "      <td>0</td>\n",
       "      <td>1</td>\n",
       "      <td>3</td>\n",
       "      <td>4</td>\n",
       "      <td>0</td>\n",
       "      <td>0</td>\n",
       "    </tr>\n",
       "    <tr>\n",
       "      <th>16</th>\n",
       "      <td>2</td>\n",
       "      <td>5842</td>\n",
       "      <td>1</td>\n",
       "      <td>0.000010</td>\n",
       "      <td>0.001291</td>\n",
       "      <td>5</td>\n",
       "      <td>0</td>\n",
       "      <td>0</td>\n",
       "      <td>1</td>\n",
       "      <td>228</td>\n",
       "      <td>56</td>\n",
       "      <td>0</td>\n",
       "      <td>0</td>\n",
       "    </tr>\n",
       "    <tr>\n",
       "      <th>17</th>\n",
       "      <td>3</td>\n",
       "      <td>3363</td>\n",
       "      <td>1</td>\n",
       "      <td>0.000010</td>\n",
       "      <td>0.000056</td>\n",
       "      <td>4</td>\n",
       "      <td>0</td>\n",
       "      <td>0</td>\n",
       "      <td>7</td>\n",
       "      <td>10</td>\n",
       "      <td>3</td>\n",
       "      <td>0</td>\n",
       "      <td>0</td>\n",
       "    </tr>\n",
       "    <tr>\n",
       "      <th>18</th>\n",
       "      <td>3</td>\n",
       "      <td>1277</td>\n",
       "      <td>1</td>\n",
       "      <td>0.000010</td>\n",
       "      <td>0.000012</td>\n",
       "      <td>-1</td>\n",
       "      <td>0</td>\n",
       "      <td>0</td>\n",
       "      <td>7</td>\n",
       "      <td>1</td>\n",
       "      <td>7</td>\n",
       "      <td>0</td>\n",
       "      <td>0</td>\n",
       "    </tr>\n",
       "    <tr>\n",
       "      <th>19</th>\n",
       "      <td>3</td>\n",
       "      <td>3739</td>\n",
       "      <td>1</td>\n",
       "      <td>0.000010</td>\n",
       "      <td>0.000075</td>\n",
       "      <td>4</td>\n",
       "      <td>0</td>\n",
       "      <td>0</td>\n",
       "      <td>7</td>\n",
       "      <td>31</td>\n",
       "      <td>26</td>\n",
       "      <td>0</td>\n",
       "      <td>0</td>\n",
       "    </tr>\n",
       "    <tr>\n",
       "      <th>20</th>\n",
       "      <td>3</td>\n",
       "      <td>6882</td>\n",
       "      <td>1</td>\n",
       "      <td>0.000010</td>\n",
       "      <td>0.000049</td>\n",
       "      <td>4</td>\n",
       "      <td>0</td>\n",
       "      <td>0</td>\n",
       "      <td>7</td>\n",
       "      <td>5</td>\n",
       "      <td>0</td>\n",
       "      <td>0</td>\n",
       "      <td>0</td>\n",
       "    </tr>\n",
       "    <tr>\n",
       "      <th>21</th>\n",
       "      <td>3</td>\n",
       "      <td>4947</td>\n",
       "      <td>1</td>\n",
       "      <td>0.000010</td>\n",
       "      <td>0.000015</td>\n",
       "      <td>4</td>\n",
       "      <td>0</td>\n",
       "      <td>0</td>\n",
       "      <td>7</td>\n",
       "      <td>1</td>\n",
       "      <td>2</td>\n",
       "      <td>0</td>\n",
       "      <td>0</td>\n",
       "    </tr>\n",
       "    <tr>\n",
       "      <th>22</th>\n",
       "      <td>3</td>\n",
       "      <td>5740</td>\n",
       "      <td>1</td>\n",
       "      <td>0.000010</td>\n",
       "      <td>0.000021</td>\n",
       "      <td>-1</td>\n",
       "      <td>0</td>\n",
       "      <td>0</td>\n",
       "      <td>7</td>\n",
       "      <td>1</td>\n",
       "      <td>0</td>\n",
       "      <td>0</td>\n",
       "      <td>0</td>\n",
       "    </tr>\n",
       "    <tr>\n",
       "      <th>23</th>\n",
       "      <td>3</td>\n",
       "      <td>5550</td>\n",
       "      <td>1</td>\n",
       "      <td>0.000010</td>\n",
       "      <td>0.000027</td>\n",
       "      <td>3</td>\n",
       "      <td>0</td>\n",
       "      <td>0</td>\n",
       "      <td>7</td>\n",
       "      <td>10</td>\n",
       "      <td>0</td>\n",
       "      <td>0</td>\n",
       "      <td>0</td>\n",
       "    </tr>\n",
       "    <tr>\n",
       "      <th>24</th>\n",
       "      <td>4</td>\n",
       "      <td>4087</td>\n",
       "      <td>1</td>\n",
       "      <td>0.000010</td>\n",
       "      <td>0.000184</td>\n",
       "      <td>-1</td>\n",
       "      <td>0</td>\n",
       "      <td>0</td>\n",
       "      <td>0</td>\n",
       "      <td>45</td>\n",
       "      <td>25</td>\n",
       "      <td>0</td>\n",
       "      <td>0</td>\n",
       "    </tr>\n",
       "    <tr>\n",
       "      <th>25</th>\n",
       "      <td>5</td>\n",
       "      <td>2481</td>\n",
       "      <td>1</td>\n",
       "      <td>0.000010</td>\n",
       "      <td>0.000142</td>\n",
       "      <td>4</td>\n",
       "      <td>0</td>\n",
       "      <td>0</td>\n",
       "      <td>3</td>\n",
       "      <td>57</td>\n",
       "      <td>104</td>\n",
       "      <td>0</td>\n",
       "      <td>0</td>\n",
       "    </tr>\n",
       "    <tr>\n",
       "      <th>26</th>\n",
       "      <td>5</td>\n",
       "      <td>5269</td>\n",
       "      <td>1</td>\n",
       "      <td>0.000010</td>\n",
       "      <td>0.001124</td>\n",
       "      <td>2</td>\n",
       "      <td>0</td>\n",
       "      <td>0</td>\n",
       "      <td>3</td>\n",
       "      <td>96</td>\n",
       "      <td>0</td>\n",
       "      <td>0</td>\n",
       "      <td>0</td>\n",
       "    </tr>\n",
       "    <tr>\n",
       "      <th>27</th>\n",
       "      <td>5</td>\n",
       "      <td>1</td>\n",
       "      <td>1</td>\n",
       "      <td>0.000010</td>\n",
       "      <td>0.000012</td>\n",
       "      <td>-1</td>\n",
       "      <td>0</td>\n",
       "      <td>0</td>\n",
       "      <td>3</td>\n",
       "      <td>0</td>\n",
       "      <td>15</td>\n",
       "      <td>0</td>\n",
       "      <td>0</td>\n",
       "    </tr>\n",
       "    <tr>\n",
       "      <th>28</th>\n",
       "      <td>5</td>\n",
       "      <td>3401</td>\n",
       "      <td>1</td>\n",
       "      <td>0.000010</td>\n",
       "      <td>0.000685</td>\n",
       "      <td>3</td>\n",
       "      <td>0</td>\n",
       "      <td>0</td>\n",
       "      <td>3</td>\n",
       "      <td>176</td>\n",
       "      <td>212</td>\n",
       "      <td>0</td>\n",
       "      <td>1</td>\n",
       "    </tr>\n",
       "    <tr>\n",
       "      <th>29</th>\n",
       "      <td>6</td>\n",
       "      <td>6072</td>\n",
       "      <td>1</td>\n",
       "      <td>0.000010</td>\n",
       "      <td>0.000014</td>\n",
       "      <td>-1</td>\n",
       "      <td>0</td>\n",
       "      <td>0</td>\n",
       "      <td>6</td>\n",
       "      <td>0</td>\n",
       "      <td>9</td>\n",
       "      <td>0</td>\n",
       "      <td>0</td>\n",
       "    </tr>\n",
       "    <tr>\n",
       "      <th>...</th>\n",
       "      <td>...</td>\n",
       "      <td>...</td>\n",
       "      <td>...</td>\n",
       "      <td>...</td>\n",
       "      <td>...</td>\n",
       "      <td>...</td>\n",
       "      <td>...</td>\n",
       "      <td>...</td>\n",
       "      <td>...</td>\n",
       "      <td>...</td>\n",
       "      <td>...</td>\n",
       "      <td>...</td>\n",
       "      <td>...</td>\n",
       "    </tr>\n",
       "    <tr>\n",
       "      <th>70618</th>\n",
       "      <td>68695</td>\n",
       "      <td>54596</td>\n",
       "      <td>0</td>\n",
       "      <td>0.000010</td>\n",
       "      <td>0.000028</td>\n",
       "      <td>-1</td>\n",
       "      <td>0</td>\n",
       "      <td>0</td>\n",
       "      <td>0</td>\n",
       "      <td>0</td>\n",
       "      <td>0</td>\n",
       "      <td>0</td>\n",
       "      <td>0</td>\n",
       "    </tr>\n",
       "    <tr>\n",
       "      <th>70619</th>\n",
       "      <td>72114</td>\n",
       "      <td>31584</td>\n",
       "      <td>0</td>\n",
       "      <td>0.000015</td>\n",
       "      <td>0.000031</td>\n",
       "      <td>-1</td>\n",
       "      <td>0</td>\n",
       "      <td>0</td>\n",
       "      <td>0</td>\n",
       "      <td>0</td>\n",
       "      <td>0</td>\n",
       "      <td>0</td>\n",
       "      <td>0</td>\n",
       "    </tr>\n",
       "    <tr>\n",
       "      <th>70620</th>\n",
       "      <td>62352</td>\n",
       "      <td>59669</td>\n",
       "      <td>0</td>\n",
       "      <td>0.000010</td>\n",
       "      <td>0.000019</td>\n",
       "      <td>-1</td>\n",
       "      <td>0</td>\n",
       "      <td>0</td>\n",
       "      <td>0</td>\n",
       "      <td>0</td>\n",
       "      <td>0</td>\n",
       "      <td>0</td>\n",
       "      <td>0</td>\n",
       "    </tr>\n",
       "    <tr>\n",
       "      <th>70621</th>\n",
       "      <td>31855</td>\n",
       "      <td>77269</td>\n",
       "      <td>0</td>\n",
       "      <td>0.000010</td>\n",
       "      <td>0.000027</td>\n",
       "      <td>-1</td>\n",
       "      <td>0</td>\n",
       "      <td>0</td>\n",
       "      <td>0</td>\n",
       "      <td>0</td>\n",
       "      <td>0</td>\n",
       "      <td>0</td>\n",
       "      <td>0</td>\n",
       "    </tr>\n",
       "    <tr>\n",
       "      <th>70622</th>\n",
       "      <td>28883</td>\n",
       "      <td>6139</td>\n",
       "      <td>0</td>\n",
       "      <td>0.000010</td>\n",
       "      <td>0.000026</td>\n",
       "      <td>-1</td>\n",
       "      <td>0</td>\n",
       "      <td>0</td>\n",
       "      <td>0</td>\n",
       "      <td>0</td>\n",
       "      <td>0</td>\n",
       "      <td>0</td>\n",
       "      <td>0</td>\n",
       "    </tr>\n",
       "    <tr>\n",
       "      <th>70623</th>\n",
       "      <td>47063</td>\n",
       "      <td>10150</td>\n",
       "      <td>0</td>\n",
       "      <td>0.000019</td>\n",
       "      <td>0.000018</td>\n",
       "      <td>-1</td>\n",
       "      <td>0</td>\n",
       "      <td>0</td>\n",
       "      <td>0</td>\n",
       "      <td>0</td>\n",
       "      <td>0</td>\n",
       "      <td>0</td>\n",
       "      <td>0</td>\n",
       "    </tr>\n",
       "    <tr>\n",
       "      <th>70624</th>\n",
       "      <td>54760</td>\n",
       "      <td>9406</td>\n",
       "      <td>0</td>\n",
       "      <td>0.000010</td>\n",
       "      <td>0.000019</td>\n",
       "      <td>-1</td>\n",
       "      <td>0</td>\n",
       "      <td>0</td>\n",
       "      <td>0</td>\n",
       "      <td>0</td>\n",
       "      <td>0</td>\n",
       "      <td>0</td>\n",
       "      <td>0</td>\n",
       "    </tr>\n",
       "    <tr>\n",
       "      <th>70625</th>\n",
       "      <td>5767</td>\n",
       "      <td>2942</td>\n",
       "      <td>0</td>\n",
       "      <td>0.000019</td>\n",
       "      <td>0.000026</td>\n",
       "      <td>-1</td>\n",
       "      <td>0</td>\n",
       "      <td>0</td>\n",
       "      <td>0</td>\n",
       "      <td>0</td>\n",
       "      <td>0</td>\n",
       "      <td>0</td>\n",
       "      <td>0</td>\n",
       "    </tr>\n",
       "    <tr>\n",
       "      <th>70626</th>\n",
       "      <td>19245</td>\n",
       "      <td>38930</td>\n",
       "      <td>0</td>\n",
       "      <td>0.000010</td>\n",
       "      <td>0.000019</td>\n",
       "      <td>-1</td>\n",
       "      <td>0</td>\n",
       "      <td>0</td>\n",
       "      <td>0</td>\n",
       "      <td>0</td>\n",
       "      <td>0</td>\n",
       "      <td>0</td>\n",
       "      <td>0</td>\n",
       "    </tr>\n",
       "    <tr>\n",
       "      <th>70627</th>\n",
       "      <td>23122</td>\n",
       "      <td>30386</td>\n",
       "      <td>0</td>\n",
       "      <td>0.000028</td>\n",
       "      <td>0.000022</td>\n",
       "      <td>-1</td>\n",
       "      <td>0</td>\n",
       "      <td>0</td>\n",
       "      <td>0</td>\n",
       "      <td>0</td>\n",
       "      <td>0</td>\n",
       "      <td>0</td>\n",
       "      <td>0</td>\n",
       "    </tr>\n",
       "    <tr>\n",
       "      <th>70628</th>\n",
       "      <td>56942</td>\n",
       "      <td>21783</td>\n",
       "      <td>0</td>\n",
       "      <td>0.000019</td>\n",
       "      <td>0.000027</td>\n",
       "      <td>-1</td>\n",
       "      <td>0</td>\n",
       "      <td>0</td>\n",
       "      <td>0</td>\n",
       "      <td>0</td>\n",
       "      <td>0</td>\n",
       "      <td>0</td>\n",
       "      <td>0</td>\n",
       "    </tr>\n",
       "    <tr>\n",
       "      <th>70629</th>\n",
       "      <td>21196</td>\n",
       "      <td>26178</td>\n",
       "      <td>0</td>\n",
       "      <td>0.000010</td>\n",
       "      <td>0.000019</td>\n",
       "      <td>-1</td>\n",
       "      <td>0</td>\n",
       "      <td>0</td>\n",
       "      <td>0</td>\n",
       "      <td>0</td>\n",
       "      <td>0</td>\n",
       "      <td>0</td>\n",
       "      <td>0</td>\n",
       "    </tr>\n",
       "    <tr>\n",
       "      <th>70630</th>\n",
       "      <td>55632</td>\n",
       "      <td>9560</td>\n",
       "      <td>0</td>\n",
       "      <td>0.000015</td>\n",
       "      <td>0.000019</td>\n",
       "      <td>-1</td>\n",
       "      <td>0</td>\n",
       "      <td>0</td>\n",
       "      <td>0</td>\n",
       "      <td>0</td>\n",
       "      <td>0</td>\n",
       "      <td>0</td>\n",
       "      <td>0</td>\n",
       "    </tr>\n",
       "    <tr>\n",
       "      <th>70631</th>\n",
       "      <td>34565</td>\n",
       "      <td>48358</td>\n",
       "      <td>0</td>\n",
       "      <td>0.000010</td>\n",
       "      <td>0.000015</td>\n",
       "      <td>-1</td>\n",
       "      <td>0</td>\n",
       "      <td>0</td>\n",
       "      <td>0</td>\n",
       "      <td>0</td>\n",
       "      <td>0</td>\n",
       "      <td>0</td>\n",
       "      <td>0</td>\n",
       "    </tr>\n",
       "    <tr>\n",
       "      <th>70632</th>\n",
       "      <td>2384</td>\n",
       "      <td>43580</td>\n",
       "      <td>0</td>\n",
       "      <td>0.000010</td>\n",
       "      <td>0.000027</td>\n",
       "      <td>-1</td>\n",
       "      <td>0</td>\n",
       "      <td>0</td>\n",
       "      <td>3</td>\n",
       "      <td>0</td>\n",
       "      <td>0</td>\n",
       "      <td>0</td>\n",
       "      <td>0</td>\n",
       "    </tr>\n",
       "    <tr>\n",
       "      <th>70633</th>\n",
       "      <td>41457</td>\n",
       "      <td>18862</td>\n",
       "      <td>0</td>\n",
       "      <td>0.000010</td>\n",
       "      <td>0.000013</td>\n",
       "      <td>-1</td>\n",
       "      <td>0</td>\n",
       "      <td>0</td>\n",
       "      <td>0</td>\n",
       "      <td>0</td>\n",
       "      <td>0</td>\n",
       "      <td>0</td>\n",
       "      <td>0</td>\n",
       "    </tr>\n",
       "    <tr>\n",
       "      <th>70634</th>\n",
       "      <td>16037</td>\n",
       "      <td>64776</td>\n",
       "      <td>0</td>\n",
       "      <td>0.000010</td>\n",
       "      <td>0.000019</td>\n",
       "      <td>-1</td>\n",
       "      <td>0</td>\n",
       "      <td>0</td>\n",
       "      <td>0</td>\n",
       "      <td>0</td>\n",
       "      <td>0</td>\n",
       "      <td>0</td>\n",
       "      <td>0</td>\n",
       "    </tr>\n",
       "    <tr>\n",
       "      <th>70635</th>\n",
       "      <td>45503</td>\n",
       "      <td>38408</td>\n",
       "      <td>0</td>\n",
       "      <td>0.000020</td>\n",
       "      <td>0.000027</td>\n",
       "      <td>-1</td>\n",
       "      <td>0</td>\n",
       "      <td>0</td>\n",
       "      <td>0</td>\n",
       "      <td>0</td>\n",
       "      <td>0</td>\n",
       "      <td>0</td>\n",
       "      <td>0</td>\n",
       "    </tr>\n",
       "    <tr>\n",
       "      <th>70636</th>\n",
       "      <td>17277</td>\n",
       "      <td>57620</td>\n",
       "      <td>0</td>\n",
       "      <td>0.000010</td>\n",
       "      <td>0.000019</td>\n",
       "      <td>-1</td>\n",
       "      <td>0</td>\n",
       "      <td>0</td>\n",
       "      <td>0</td>\n",
       "      <td>0</td>\n",
       "      <td>0</td>\n",
       "      <td>0</td>\n",
       "      <td>0</td>\n",
       "    </tr>\n",
       "    <tr>\n",
       "      <th>70637</th>\n",
       "      <td>43035</td>\n",
       "      <td>65989</td>\n",
       "      <td>0</td>\n",
       "      <td>0.000010</td>\n",
       "      <td>0.000015</td>\n",
       "      <td>-1</td>\n",
       "      <td>0</td>\n",
       "      <td>0</td>\n",
       "      <td>0</td>\n",
       "      <td>0</td>\n",
       "      <td>0</td>\n",
       "      <td>0</td>\n",
       "      <td>0</td>\n",
       "    </tr>\n",
       "    <tr>\n",
       "      <th>70638</th>\n",
       "      <td>55955</td>\n",
       "      <td>62587</td>\n",
       "      <td>0</td>\n",
       "      <td>0.000010</td>\n",
       "      <td>0.000019</td>\n",
       "      <td>-1</td>\n",
       "      <td>0</td>\n",
       "      <td>0</td>\n",
       "      <td>0</td>\n",
       "      <td>0</td>\n",
       "      <td>0</td>\n",
       "      <td>0</td>\n",
       "      <td>0</td>\n",
       "    </tr>\n",
       "    <tr>\n",
       "      <th>70639</th>\n",
       "      <td>53915</td>\n",
       "      <td>75017</td>\n",
       "      <td>0</td>\n",
       "      <td>0.000019</td>\n",
       "      <td>0.000027</td>\n",
       "      <td>-1</td>\n",
       "      <td>0</td>\n",
       "      <td>0</td>\n",
       "      <td>0</td>\n",
       "      <td>0</td>\n",
       "      <td>0</td>\n",
       "      <td>0</td>\n",
       "      <td>0</td>\n",
       "    </tr>\n",
       "    <tr>\n",
       "      <th>70640</th>\n",
       "      <td>19203</td>\n",
       "      <td>24495</td>\n",
       "      <td>0</td>\n",
       "      <td>0.000010</td>\n",
       "      <td>0.000030</td>\n",
       "      <td>-1</td>\n",
       "      <td>0</td>\n",
       "      <td>0</td>\n",
       "      <td>0</td>\n",
       "      <td>0</td>\n",
       "      <td>0</td>\n",
       "      <td>0</td>\n",
       "      <td>0</td>\n",
       "    </tr>\n",
       "    <tr>\n",
       "      <th>70641</th>\n",
       "      <td>36698</td>\n",
       "      <td>35191</td>\n",
       "      <td>0</td>\n",
       "      <td>0.000046</td>\n",
       "      <td>0.000039</td>\n",
       "      <td>-1</td>\n",
       "      <td>0</td>\n",
       "      <td>0</td>\n",
       "      <td>0</td>\n",
       "      <td>0</td>\n",
       "      <td>0</td>\n",
       "      <td>0</td>\n",
       "      <td>0</td>\n",
       "    </tr>\n",
       "    <tr>\n",
       "      <th>70642</th>\n",
       "      <td>71246</td>\n",
       "      <td>56281</td>\n",
       "      <td>0</td>\n",
       "      <td>0.000010</td>\n",
       "      <td>0.000019</td>\n",
       "      <td>-1</td>\n",
       "      <td>0</td>\n",
       "      <td>0</td>\n",
       "      <td>0</td>\n",
       "      <td>0</td>\n",
       "      <td>0</td>\n",
       "      <td>0</td>\n",
       "      <td>0</td>\n",
       "    </tr>\n",
       "    <tr>\n",
       "      <th>70643</th>\n",
       "      <td>59484</td>\n",
       "      <td>35036</td>\n",
       "      <td>0</td>\n",
       "      <td>0.000010</td>\n",
       "      <td>0.000025</td>\n",
       "      <td>-1</td>\n",
       "      <td>0</td>\n",
       "      <td>0</td>\n",
       "      <td>0</td>\n",
       "      <td>0</td>\n",
       "      <td>0</td>\n",
       "      <td>0</td>\n",
       "      <td>0</td>\n",
       "    </tr>\n",
       "    <tr>\n",
       "      <th>70644</th>\n",
       "      <td>14275</td>\n",
       "      <td>74046</td>\n",
       "      <td>0</td>\n",
       "      <td>0.000019</td>\n",
       "      <td>0.000027</td>\n",
       "      <td>-1</td>\n",
       "      <td>0</td>\n",
       "      <td>0</td>\n",
       "      <td>0</td>\n",
       "      <td>0</td>\n",
       "      <td>0</td>\n",
       "      <td>0</td>\n",
       "      <td>0</td>\n",
       "    </tr>\n",
       "    <tr>\n",
       "      <th>70645</th>\n",
       "      <td>80555</td>\n",
       "      <td>52480</td>\n",
       "      <td>0</td>\n",
       "      <td>0.000010</td>\n",
       "      <td>0.000015</td>\n",
       "      <td>-1</td>\n",
       "      <td>0</td>\n",
       "      <td>0</td>\n",
       "      <td>0</td>\n",
       "      <td>0</td>\n",
       "      <td>0</td>\n",
       "      <td>0</td>\n",
       "      <td>0</td>\n",
       "    </tr>\n",
       "    <tr>\n",
       "      <th>70646</th>\n",
       "      <td>23777</td>\n",
       "      <td>490</td>\n",
       "      <td>0</td>\n",
       "      <td>0.000010</td>\n",
       "      <td>0.000045</td>\n",
       "      <td>-1</td>\n",
       "      <td>0</td>\n",
       "      <td>0</td>\n",
       "      <td>0</td>\n",
       "      <td>11</td>\n",
       "      <td>5</td>\n",
       "      <td>0</td>\n",
       "      <td>0</td>\n",
       "    </tr>\n",
       "    <tr>\n",
       "      <th>70647</th>\n",
       "      <td>60241</td>\n",
       "      <td>18477</td>\n",
       "      <td>0</td>\n",
       "      <td>0.000010</td>\n",
       "      <td>0.000031</td>\n",
       "      <td>-1</td>\n",
       "      <td>0</td>\n",
       "      <td>0</td>\n",
       "      <td>0</td>\n",
       "      <td>0</td>\n",
       "      <td>0</td>\n",
       "      <td>0</td>\n",
       "      <td>0</td>\n",
       "    </tr>\n",
       "  </tbody>\n",
       "</table>\n",
       "<p>70648 rows × 13 columns</p>\n",
       "</div>"
      ],
      "text/plain": [
       "       Source  Destination  Class  Page_Rank_Src  Page_Rank_Dst  \\\n",
       "0        6194          255      1       0.000010       0.000040   \n",
       "1        6194          980      1       0.000010       0.000012   \n",
       "2        6194         2992      1       0.000010       0.000022   \n",
       "3        6194         2507      1       0.000010       0.000018   \n",
       "4        6194          986      1       0.000010       0.000031   \n",
       "5        6194         4003      1       0.000010       0.000022   \n",
       "6           0           82      1       0.000010       0.000043   \n",
       "7          15          343      1       0.000023       0.000022   \n",
       "8          15         4282      1       0.000023       0.000044   \n",
       "9          15         5442      1       0.000023       0.000082   \n",
       "10         15         1162      1       0.000023       0.000029   \n",
       "11         15         3401      1       0.000023       0.000685   \n",
       "12       7106         6211      1       0.000041       0.000024   \n",
       "13       7106         6611      1       0.000041       0.000270   \n",
       "14       7106         1348      1       0.000041       0.000025   \n",
       "15       7106         2239      1       0.000041       0.000022   \n",
       "16          2         5842      1       0.000010       0.001291   \n",
       "17          3         3363      1       0.000010       0.000056   \n",
       "18          3         1277      1       0.000010       0.000012   \n",
       "19          3         3739      1       0.000010       0.000075   \n",
       "20          3         6882      1       0.000010       0.000049   \n",
       "21          3         4947      1       0.000010       0.000015   \n",
       "22          3         5740      1       0.000010       0.000021   \n",
       "23          3         5550      1       0.000010       0.000027   \n",
       "24          4         4087      1       0.000010       0.000184   \n",
       "25          5         2481      1       0.000010       0.000142   \n",
       "26          5         5269      1       0.000010       0.001124   \n",
       "27          5            1      1       0.000010       0.000012   \n",
       "28          5         3401      1       0.000010       0.000685   \n",
       "29          6         6072      1       0.000010       0.000014   \n",
       "...       ...          ...    ...            ...            ...   \n",
       "70618   68695        54596      0       0.000010       0.000028   \n",
       "70619   72114        31584      0       0.000015       0.000031   \n",
       "70620   62352        59669      0       0.000010       0.000019   \n",
       "70621   31855        77269      0       0.000010       0.000027   \n",
       "70622   28883         6139      0       0.000010       0.000026   \n",
       "70623   47063        10150      0       0.000019       0.000018   \n",
       "70624   54760         9406      0       0.000010       0.000019   \n",
       "70625    5767         2942      0       0.000019       0.000026   \n",
       "70626   19245        38930      0       0.000010       0.000019   \n",
       "70627   23122        30386      0       0.000028       0.000022   \n",
       "70628   56942        21783      0       0.000019       0.000027   \n",
       "70629   21196        26178      0       0.000010       0.000019   \n",
       "70630   55632         9560      0       0.000015       0.000019   \n",
       "70631   34565        48358      0       0.000010       0.000015   \n",
       "70632    2384        43580      0       0.000010       0.000027   \n",
       "70633   41457        18862      0       0.000010       0.000013   \n",
       "70634   16037        64776      0       0.000010       0.000019   \n",
       "70635   45503        38408      0       0.000020       0.000027   \n",
       "70636   17277        57620      0       0.000010       0.000019   \n",
       "70637   43035        65989      0       0.000010       0.000015   \n",
       "70638   55955        62587      0       0.000010       0.000019   \n",
       "70639   53915        75017      0       0.000019       0.000027   \n",
       "70640   19203        24495      0       0.000010       0.000030   \n",
       "70641   36698        35191      0       0.000046       0.000039   \n",
       "70642   71246        56281      0       0.000010       0.000019   \n",
       "70643   59484        35036      0       0.000010       0.000025   \n",
       "70644   14275        74046      0       0.000019       0.000027   \n",
       "70645   80555        52480      0       0.000010       0.000015   \n",
       "70646   23777          490      0       0.000010       0.000045   \n",
       "70647   60241        18477      0       0.000010       0.000031   \n",
       "\n",
       "       Shortest_Path  Follows_Back  Followers_Src  Followees_Src  \\\n",
       "0                  6             0              0              4   \n",
       "1                 -1             0              0              4   \n",
       "2                  4             0              0              4   \n",
       "3                  3             0              0              4   \n",
       "4                 -1             0              0              4   \n",
       "5                 -1             0              0              4   \n",
       "6                 -1             0              0              0   \n",
       "7                 -1             0              0              3   \n",
       "8                  4             0              0              3   \n",
       "9                  5             0              0              3   \n",
       "10                -1             0              0              3   \n",
       "11                 5             0              0              3   \n",
       "12                -1             0              0              1   \n",
       "13                 3             0              0              1   \n",
       "14                -1             0              0              1   \n",
       "15                -1             0              0              1   \n",
       "16                 5             0              0              1   \n",
       "17                 4             0              0              7   \n",
       "18                -1             0              0              7   \n",
       "19                 4             0              0              7   \n",
       "20                 4             0              0              7   \n",
       "21                 4             0              0              7   \n",
       "22                -1             0              0              7   \n",
       "23                 3             0              0              7   \n",
       "24                -1             0              0              0   \n",
       "25                 4             0              0              3   \n",
       "26                 2             0              0              3   \n",
       "27                -1             0              0              3   \n",
       "28                 3             0              0              3   \n",
       "29                -1             0              0              6   \n",
       "...              ...           ...            ...            ...   \n",
       "70618             -1             0              0              0   \n",
       "70619             -1             0              0              0   \n",
       "70620             -1             0              0              0   \n",
       "70621             -1             0              0              0   \n",
       "70622             -1             0              0              0   \n",
       "70623             -1             0              0              0   \n",
       "70624             -1             0              0              0   \n",
       "70625             -1             0              0              0   \n",
       "70626             -1             0              0              0   \n",
       "70627             -1             0              0              0   \n",
       "70628             -1             0              0              0   \n",
       "70629             -1             0              0              0   \n",
       "70630             -1             0              0              0   \n",
       "70631             -1             0              0              0   \n",
       "70632             -1             0              0              3   \n",
       "70633             -1             0              0              0   \n",
       "70634             -1             0              0              0   \n",
       "70635             -1             0              0              0   \n",
       "70636             -1             0              0              0   \n",
       "70637             -1             0              0              0   \n",
       "70638             -1             0              0              0   \n",
       "70639             -1             0              0              0   \n",
       "70640             -1             0              0              0   \n",
       "70641             -1             0              0              0   \n",
       "70642             -1             0              0              0   \n",
       "70643             -1             0              0              0   \n",
       "70644             -1             0              0              0   \n",
       "70645             -1             0              0              0   \n",
       "70646             -1             0              0              0   \n",
       "70647             -1             0              0              0   \n",
       "\n",
       "       Followers_Dst  Followees_Dst  Int_Followers  Int_Followees  \n",
       "0                  1              3              0              0  \n",
       "1                  0             15              0              1  \n",
       "2                  2              0              0              0  \n",
       "3                  8             14              0              0  \n",
       "4                  0             19              0              0  \n",
       "5                  5              4              0              0  \n",
       "6                  0              2              0              0  \n",
       "7                  0             17              0              1  \n",
       "8                 16             15              0              0  \n",
       "9                  5              0              0              0  \n",
       "10                 0             11              0              0  \n",
       "11               176            212              0              0  \n",
       "12                 0              8              0              0  \n",
       "13                33              0              0              0  \n",
       "14                 0              0              0              0  \n",
       "15                 3              4              0              0  \n",
       "16               228             56              0              0  \n",
       "17                10              3              0              0  \n",
       "18                 1              7              0              0  \n",
       "19                31             26              0              0  \n",
       "20                 5              0              0              0  \n",
       "21                 1              2              0              0  \n",
       "22                 1              0              0              0  \n",
       "23                10              0              0              0  \n",
       "24                45             25              0              0  \n",
       "25                57            104              0              0  \n",
       "26                96              0              0              0  \n",
       "27                 0             15              0              0  \n",
       "28               176            212              0              1  \n",
       "29                 0              9              0              0  \n",
       "...              ...            ...            ...            ...  \n",
       "70618              0              0              0              0  \n",
       "70619              0              0              0              0  \n",
       "70620              0              0              0              0  \n",
       "70621              0              0              0              0  \n",
       "70622              0              0              0              0  \n",
       "70623              0              0              0              0  \n",
       "70624              0              0              0              0  \n",
       "70625              0              0              0              0  \n",
       "70626              0              0              0              0  \n",
       "70627              0              0              0              0  \n",
       "70628              0              0              0              0  \n",
       "70629              0              0              0              0  \n",
       "70630              0              0              0              0  \n",
       "70631              0              0              0              0  \n",
       "70632              0              0              0              0  \n",
       "70633              0              0              0              0  \n",
       "70634              0              0              0              0  \n",
       "70635              0              0              0              0  \n",
       "70636              0              0              0              0  \n",
       "70637              0              0              0              0  \n",
       "70638              0              0              0              0  \n",
       "70639              0              0              0              0  \n",
       "70640              0              0              0              0  \n",
       "70641              0              0              0              0  \n",
       "70642              0              0              0              0  \n",
       "70643              0              0              0              0  \n",
       "70644              0              0              0              0  \n",
       "70645              0              0              0              0  \n",
       "70646             11              5              0              0  \n",
       "70647              0              0              0              0  \n",
       "\n",
       "[70648 rows x 13 columns]"
      ]
     },
     "execution_count": 2,
     "metadata": {},
     "output_type": "execute_result"
    }
   ],
   "source": [
    "df = pd.read_csv('./data/twitch_final_dataset.csv')\n",
    "\n",
    "# To  remove\"Unnamed: 0\" column \n",
    "df = df.drop(columns=['Unnamed: 0']) \n",
    "df"
   ]
  },
  {
   "cell_type": "code",
   "execution_count": 3,
   "metadata": {},
   "outputs": [
    {
     "data": {
      "image/png": "[encoded data removed]",
      "text/plain": [
       "<Figure size 432x288 with 2 Axes>"
      ]
     },
     "metadata": {
      "needs_background": "light"
     },
     "output_type": "display_data"
    }
   ],
   "source": [
    "dataplot=sn.heatmap(df.corr())\n",
    "plt.show()"
   ]
  },
  {
   "cell_type": "code",
   "execution_count": 4,
   "metadata": {
    "scrolled": true
   },
   "outputs": [
    {
     "data": {
      "text/plain": [
       "<matplotlib.axes._subplots.AxesSubplot at 0xdf6c828>"
      ]
     },
     "execution_count": 4,
     "metadata": {},
     "output_type": "execute_result"
    },
    {
     "data": {
      "image/png": "[encoded data removed]",
      "text/plain": [
       "<Figure size 432x288 with 1 Axes>"
      ]
     },
     "metadata": {
      "needs_background": "light"
     },
     "output_type": "display_data"
    }
   ],
   "source": [
    "x = df['Page_Rank_Src']\n",
    "df['Page_Rank_Src'] = ( x-x.min()) / ( x.max() - x.min() )  #normalise data in the range 0-1\n",
    "df['Page_Rank_Src'].hist() # matplotlib library  used to plot a histogram"
   ]
  },
  {
   "cell_type": "code",
   "execution_count": 5,
   "metadata": {},
   "outputs": [
    {
     "data": {
      "text/plain": [
       "<matplotlib.axes._subplots.AxesSubplot at 0x121b4d30>"
      ]
     },
     "execution_count": 5,
     "metadata": {},
     "output_type": "execute_result"
    },
    {
     "data": {
      "image/png": "[encoded data removed]",
      "text/plain": [
       "<Figure size 432x288 with 1 Axes>"
      ]
     },
     "metadata": {
      "needs_background": "light"
     },
     "output_type": "display_data"
    }
   ],
   "source": [
    "x = df['Page_Rank_Dst']\n",
    "df['Page_Rank_Dst'] = ( x-x.min()) / ( x.max() - x.min() )\n",
    "df['Page_Rank_Dst'].hist()"
   ]
  },
  {
   "cell_type": "code",
   "execution_count": 6,
   "metadata": {},
   "outputs": [
    {
     "data": {
      "text/plain": [
       "<matplotlib.axes._subplots.AxesSubplot at 0x124230f0>"
      ]
     },
     "execution_count": 6,
     "metadata": {},
     "output_type": "execute_result"
    },
    {
     "data": {
      "image/png": "[encoded data removed]",
      "text/plain": [
       "<Figure size 432x288 with 1 Axes>"
      ]
     },
     "metadata": {
      "needs_background": "light"
     },
     "output_type": "display_data"
    }
   ],
   "source": [
    "x = df['Shortest_Path']\n",
    "df['Shortest_Path'] = ( x-x.min()) / ( x.max() - x.min() )\n",
    "df['Shortest_Path'].hist()"
   ]
  },
  {
   "cell_type": "code",
   "execution_count": 7,
   "metadata": {},
   "outputs": [
    {
     "data": {
      "text/plain": [
       "<matplotlib.axes._subplots.AxesSubplot at 0x125b4c88>"
      ]
     },
     "execution_count": 7,
     "metadata": {},
     "output_type": "execute_result"
    },
    {
     "data": {
      "image/png": "[encoded data removed]",
      "text/plain": [
       "<Figure size 432x288 with 1 Axes>"
      ]
     },
     "metadata": {
      "needs_background": "light"
     },
     "output_type": "display_data"
    }
   ],
   "source": [
    "x = df['Follows_Back']\n",
    "if x.max() != x.min():\n",
    "    df['Follows_Back'] = ( x-x.min()) / ( x.max() - x.min() )\n",
    "df['Follows_Back'].hist()"
   ]
  },
  {
   "cell_type": "code",
   "execution_count": 8,
   "metadata": {
    "scrolled": true
   },
   "outputs": [
    {
     "data": {
      "text/plain": [
       "<matplotlib.axes._subplots.AxesSubplot at 0x126fd978>"
      ]
     },
     "execution_count": 8,
     "metadata": {},
     "output_type": "execute_result"
    },
    {
     "data": {
      "image/png": "[encoded data removed]",
      "text/plain": [
       "<Figure size 432x288 with 1 Axes>"
      ]
     },
     "metadata": {
      "needs_background": "light"
     },
     "output_type": "display_data"
    }
   ],
   "source": [
    "x = df['Followees_Dst']\n",
    "df['Followees_Dst'] = ( x-x.min()) / ( x.max() - x.min() )\n",
    "df['Followees_Dst'].hist()"
   ]
  },
  {
   "cell_type": "code",
   "execution_count": 9,
   "metadata": {},
   "outputs": [
    {
     "data": {
      "text/plain": [
       "<matplotlib.axes._subplots.AxesSubplot at 0x128f1e10>"
      ]
     },
     "execution_count": 9,
     "metadata": {},
     "output_type": "execute_result"
    },
    {
     "data": {
      "image/png": "[encoded data removed]",
      "text/plain": [
       "<Figure size 432x288 with 1 Axes>"
      ]
     },
     "metadata": {
      "needs_background": "light"
     },
     "output_type": "display_data"
    }
   ],
   "source": [
    "x = df['Followees_Src']\n",
    "df['Followees_Src'] = ( x-x.min()) / ( x.max() - x.min() )\n",
    "df['Followees_Src'].hist()"
   ]
  },
  {
   "cell_type": "code",
   "execution_count": 10,
   "metadata": {},
   "outputs": [
    {
     "data": {
      "text/plain": [
       "<matplotlib.axes._subplots.AxesSubplot at 0x129936d8>"
      ]
     },
     "execution_count": 10,
     "metadata": {},
     "output_type": "execute_result"
    },
    {
     "data": {
      "image/png": "[encoded data removed]",
      "text/plain": [
       "<Figure size 432x288 with 1 Axes>"
      ]
     },
     "metadata": {
      "needs_background": "light"
     },
     "output_type": "display_data"
    }
   ],
   "source": [
    "x = df['Followers_Dst']\n",
    "df['Followers_Dst'] = ( x-x.min()) / ( x.max() - x.min() )\n",
    "df['Followers_Dst'].hist()"
   ]
  },
  {
   "cell_type": "code",
   "execution_count": 11,
   "metadata": {},
   "outputs": [
    {
     "data": {
      "text/plain": [
       "<matplotlib.axes._subplots.AxesSubplot at 0x12f2d978>"
      ]
     },
     "execution_count": 11,
     "metadata": {},
     "output_type": "execute_result"
    },
    {
     "data": {
      "image/png": "[encoded data removed]",
      "text/plain": [
       "<Figure size 432x288 with 1 Axes>"
      ]
     },
     "metadata": {
      "needs_background": "light"
     },
     "output_type": "display_data"
    }
   ],
   "source": [
    "x = df['Followers_Src']\n",
    "df['Followers_Src'] = ( x-x.min()) / ( x.max() - x.min() )\n",
    "df['Followers_Src'].hist()"
   ]
  },
  {
   "cell_type": "code",
   "execution_count": 12,
   "metadata": {
    "scrolled": true
   },
   "outputs": [
    {
     "data": {
      "text/plain": [
       "<matplotlib.axes._subplots.AxesSubplot at 0x1241b898>"
      ]
     },
     "execution_count": 12,
     "metadata": {},
     "output_type": "execute_result"
    },
    {
     "data": {
      "image/png": "[encoded data removed]",
      "text/plain": [
       "<Figure size 432x288 with 1 Axes>"
      ]
     },
     "metadata": {
      "needs_background": "light"
     },
     "output_type": "display_data"
    }
   ],
   "source": [
    "x = df['Int_Followees']\n",
    "df['Int_Followees'] = ( x-x.min()) / ( x.max() - x.min() )\n",
    "df['Int_Followees'].hist()"
   ]
  },
  {
   "cell_type": "code",
   "execution_count": 13,
   "metadata": {
    "scrolled": true
   },
   "outputs": [
    {
     "data": {
      "text/plain": [
       "<matplotlib.axes._subplots.AxesSubplot at 0x10f5e128>"
      ]
     },
     "execution_count": 13,
     "metadata": {},
     "output_type": "execute_result"
    },
    {
     "data": {
      "image/png": "[encoded data removed]",
      "text/plain": [
       "<Figure size 432x288 with 1 Axes>"
      ]
     },
     "metadata": {
      "needs_background": "light"
     },
     "output_type": "display_data"
    }
   ],
   "source": [
    "x = df['Int_Followers']\n",
    "df['Int_Followers'] = ( x-x.min()) / ( x.max() - x.min() )\n",
    "df['Int_Followers'].hist()"
   ]
  },
  {
   "cell_type": "code",
   "execution_count": 14,
   "metadata": {},
   "outputs": [
    {
     "data": {
      "text/html": [
       "<div>\n",
       "<style scoped>\n",
       "    .dataframe tbody tr th:only-of-type {\n",
       "        vertical-align: middle;\n",
       "    }\n",
       "\n",
       "    .dataframe tbody tr th {\n",
       "        vertical-align: top;\n",
       "    }\n",
       "\n",
       "    .dataframe thead th {\n",
       "        text-align: right;\n",
       "    }\n",
       "</style>\n",
       "<table border=\"1\" class=\"dataframe\">\n",
       "  <thead>\n",
       "    <tr style=\"text-align: right;\">\n",
       "      <th></th>\n",
       "      <th>Source</th>\n",
       "      <th>Destination</th>\n",
       "      <th>Class</th>\n",
       "      <th>Page_Rank_Src</th>\n",
       "      <th>Page_Rank_Dst</th>\n",
       "      <th>Shortest_Path</th>\n",
       "      <th>Follows_Back</th>\n",
       "      <th>Followers_Src</th>\n",
       "      <th>Followees_Src</th>\n",
       "      <th>Followers_Dst</th>\n",
       "      <th>Followees_Dst</th>\n",
       "      <th>Int_Followers</th>\n",
       "      <th>Int_Followees</th>\n",
       "    </tr>\n",
       "  </thead>\n",
       "  <tbody>\n",
       "    <tr>\n",
       "      <th>0</th>\n",
       "      <td>6194</td>\n",
       "      <td>255</td>\n",
       "      <td>1</td>\n",
       "      <td>0.0</td>\n",
       "      <td>0.016176</td>\n",
       "      <td>1.000000</td>\n",
       "      <td>0</td>\n",
       "      <td>0.0</td>\n",
       "      <td>0.010076</td>\n",
       "      <td>0.002506</td>\n",
       "      <td>0.007557</td>\n",
       "      <td>0.0</td>\n",
       "      <td>0.000000</td>\n",
       "    </tr>\n",
       "    <tr>\n",
       "      <th>1</th>\n",
       "      <td>6194</td>\n",
       "      <td>980</td>\n",
       "      <td>1</td>\n",
       "      <td>0.0</td>\n",
       "      <td>0.001062</td>\n",
       "      <td>0.000000</td>\n",
       "      <td>0</td>\n",
       "      <td>0.0</td>\n",
       "      <td>0.010076</td>\n",
       "      <td>0.000000</td>\n",
       "      <td>0.037783</td>\n",
       "      <td>0.0</td>\n",
       "      <td>0.013158</td>\n",
       "    </tr>\n",
       "    <tr>\n",
       "      <th>2</th>\n",
       "      <td>6194</td>\n",
       "      <td>2992</td>\n",
       "      <td>1</td>\n",
       "      <td>0.0</td>\n",
       "      <td>0.006685</td>\n",
       "      <td>0.714286</td>\n",
       "      <td>0</td>\n",
       "      <td>0.0</td>\n",
       "      <td>0.010076</td>\n",
       "      <td>0.005013</td>\n",
       "      <td>0.000000</td>\n",
       "      <td>0.0</td>\n",
       "      <td>0.000000</td>\n",
       "    </tr>\n",
       "    <tr>\n",
       "      <th>3</th>\n",
       "      <td>6194</td>\n",
       "      <td>2507</td>\n",
       "      <td>1</td>\n",
       "      <td>0.0</td>\n",
       "      <td>0.004499</td>\n",
       "      <td>0.571429</td>\n",
       "      <td>0</td>\n",
       "      <td>0.0</td>\n",
       "      <td>0.010076</td>\n",
       "      <td>0.020050</td>\n",
       "      <td>0.035264</td>\n",
       "      <td>0.0</td>\n",
       "      <td>0.000000</td>\n",
       "    </tr>\n",
       "    <tr>\n",
       "      <th>4</th>\n",
       "      <td>6194</td>\n",
       "      <td>986</td>\n",
       "      <td>1</td>\n",
       "      <td>0.0</td>\n",
       "      <td>0.011462</td>\n",
       "      <td>0.000000</td>\n",
       "      <td>0</td>\n",
       "      <td>0.0</td>\n",
       "      <td>0.010076</td>\n",
       "      <td>0.000000</td>\n",
       "      <td>0.047859</td>\n",
       "      <td>0.0</td>\n",
       "      <td>0.000000</td>\n",
       "    </tr>\n",
       "  </tbody>\n",
       "</table>\n",
       "</div>"
      ],
      "text/plain": [
       "   Source  Destination  Class  Page_Rank_Src  Page_Rank_Dst  Shortest_Path  \\\n",
       "0    6194          255      1            0.0       0.016176       1.000000   \n",
       "1    6194          980      1            0.0       0.001062       0.000000   \n",
       "2    6194         2992      1            0.0       0.006685       0.714286   \n",
       "3    6194         2507      1            0.0       0.004499       0.571429   \n",
       "4    6194          986      1            0.0       0.011462       0.000000   \n",
       "\n",
       "   Follows_Back  Followers_Src  Followees_Src  Followers_Dst  Followees_Dst  \\\n",
       "0             0            0.0       0.010076       0.002506       0.007557   \n",
       "1             0            0.0       0.010076       0.000000       0.037783   \n",
       "2             0            0.0       0.010076       0.005013       0.000000   \n",
       "3             0            0.0       0.010076       0.020050       0.035264   \n",
       "4             0            0.0       0.010076       0.000000       0.047859   \n",
       "\n",
       "   Int_Followers  Int_Followees  \n",
       "0            0.0       0.000000  \n",
       "1            0.0       0.013158  \n",
       "2            0.0       0.000000  \n",
       "3            0.0       0.000000  \n",
       "4            0.0       0.000000  "
      ]
     },
     "execution_count": 14,
     "metadata": {},
     "output_type": "execute_result"
    }
   ],
   "source": [
    "df.head(5)"
   ]
  },
  {
   "cell_type": "code",
   "execution_count": 15,
   "metadata": {},
   "outputs": [],
   "source": [
    "df.to_csv('./data/twitch_preprocessed_data.csv')"
   ]
  },
  {
   "cell_type": "code",
   "execution_count": 16,
   "metadata": {},
   "outputs": [
    {
     "name": "stdout",
     "output_type": "stream",
     "text": [
      "Name: \n",
      "Type: DiGraph\n",
      "Number of nodes: 50121\n",
      "Number of edges: 70648\n",
      "Average in degree:   1.4095\n",
      "Average out degree:   1.4095\n"
     ]
    }
   ],
   "source": [
    "g = nx.from_pandas_edgelist(df[['Source','Destination']], source='Source', target='Destination',create_using=nx.DiGraph())\n",
    "print nx.info(g)"
   ]
  },
  {
   "cell_type": "code",
   "execution_count": 17,
   "metadata": {},
   "outputs": [],
   "source": [
    "df_x = df.drop(columns=['Source', 'Destination', 'Class'])\n",
    "df_y = df[['Class']]\n",
    "x_train, x_test, y_train, y_test  = train_test_split(df_x, df_y, test_size = 0.3, random_state=7)"
   ]
  },
  {
   "cell_type": "markdown",
   "metadata": {},
   "source": [
    "## 1. Logistic Regression"
   ]
  },
  {
   "cell_type": "code",
   "execution_count": 30,
   "metadata": {},
   "outputs": [],
   "source": [
    "#L1 regularization penalizes the sum of absolute values of the weights, whereas L2 regularization penalizes the sum of squares of the weights\n",
    "penalty_values = ['l1', 'l2']\n",
    "c_values = np.logspace(0, 4, 10)\n",
    "param_grid = {'C' : c_values, 'penalty' : penalty_values}\n",
    "\n",
    "gs_lr = GridSearchCV(cv = 10, estimator = LogisticRegression(), param_grid = param_grid)"
   ]
  },
  {
   "cell_type": "code",
   "execution_count": 31,
   "metadata": {},
   "outputs": [
    {
     "name": "stdout",
     "output_type": "stream",
     "text": [
      "Time taken to train model :  32.96  seconds\n"
     ]
    }
   ],
   "source": [
    "start = time.time()\n",
    "gs_lr.fit(x_train, y_train) #fitting the model for grid search\n",
    "end = time.time()\n",
    "print 'Time taken to train model : ', round(end-start,2) , ' seconds'"
   ]
  },
  {
   "cell_type": "code",
   "execution_count": 19,
   "metadata": {},
   "outputs": [
    {
     "name": "stdout",
     "output_type": "stream",
     "text": [
      "{'penalty': 'l2', 'C': 1291.5496650148827}\n"
     ]
    }
   ],
   "source": [
    "pickle.dump(gs_lr.best_estimator_, open('./data/twitch_lr_model.p', 'wb'))\n",
    "print gs_lr.best_params_ # print best parameter after tuning"
   ]
  },
  {
   "cell_type": "code",
   "execution_count": 20,
   "metadata": {},
   "outputs": [
    {
     "name": "stdout",
     "output_type": "stream",
     "text": [
      "              precision    recall  f1-score   support\n",
      "\n",
      "           0       0.98      0.92      0.95     11215\n",
      "           1       0.92      0.98      0.95      9980\n",
      "\n",
      "   micro avg       0.95      0.95      0.95     21195\n",
      "   macro avg       0.95      0.95      0.95     21195\n",
      "weighted avg       0.95      0.95      0.95     21195\n",
      "\n"
     ]
    }
   ],
   "source": [
    "print classification_report(gs_lr.best_estimator_.predict(x_test), y_test) "
   ]
  },
  {
   "cell_type": "code",
   "execution_count": 21,
   "metadata": {},
   "outputs": [
    {
     "name": "stdout",
     "output_type": "stream",
     "text": [
      "[[10321   894]\n",
      " [  199  9781]]\n"
     ]
    }
   ],
   "source": [
    "print confusion_matrix(gs_lr.best_estimator_.predict(x_test), y_test) "
   ]
  },
  {
   "cell_type": "markdown",
   "metadata": {},
   "source": [
    "## 2. Random Forest"
   ]
  },
  {
   "cell_type": "code",
   "execution_count": 90,
   "metadata": {},
   "outputs": [],
   "source": [
    "estimators = [50, 100, 150]\n",
    "depths = [9, 12, 15, 24]\n",
    "split = np.random.randint(100, 150, 2)\n",
    "leaves = np.random.randint(20, 30, 2)\n",
    "param_grid = {'n_estimators' : estimators, 'max_depth' : depths, 'min_samples_split' : split, 'min_samples_leaf' : leaves}\n",
    "\n",
    "gs_rf = GridSearchCV(cv = 10, estimator = RandomForestClassifier(), param_grid = param_grid)"
   ]
  },
  {
   "cell_type": "code",
   "execution_count": 11,
   "metadata": {},
   "outputs": [
    {
     "ename": "NameError",
     "evalue": "name 'gs_rf' is not defined",
     "output_type": "error",
     "traceback": [
      "\u001b[1;31m\u001b[0m",
      "\u001b[1;31mNameError\u001b[0mTraceback (most recent call last)",
      "\u001b[1;32m<ipython-input-11-19ba9395cb75>\u001b[0m in \u001b[0;36m<module>\u001b[1;34m()\u001b[0m\n\u001b[0;32m      1\u001b[0m \u001b[0mstart\u001b[0m \u001b[1;33m=\u001b[0m \u001b[0mtime\u001b[0m\u001b[1;33m.\u001b[0m\u001b[0mtime\u001b[0m\u001b[1;33m(\u001b[0m\u001b[1;33m)\u001b[0m\u001b[1;33m\u001b[0m\u001b[0m\n\u001b[1;32m----> 2\u001b[1;33m \u001b[0mgs_rf\u001b[0m\u001b[1;33m.\u001b[0m\u001b[0mfit\u001b[0m\u001b[1;33m(\u001b[0m\u001b[0mx_train\u001b[0m\u001b[1;33m,\u001b[0m \u001b[0my_train\u001b[0m\u001b[1;33m)\u001b[0m\u001b[1;33m\u001b[0m\u001b[0m\n\u001b[0m\u001b[0;32m      3\u001b[0m \u001b[0mend\u001b[0m \u001b[1;33m=\u001b[0m \u001b[0mtime\u001b[0m\u001b[1;33m.\u001b[0m\u001b[0mtime\u001b[0m\u001b[1;33m(\u001b[0m\u001b[1;33m)\u001b[0m\u001b[1;33m\u001b[0m\u001b[0m\n\u001b[0;32m      4\u001b[0m \u001b[1;32mprint\u001b[0m \u001b[1;34m'Time taken to train model : '\u001b[0m\u001b[1;33m,\u001b[0m \u001b[0mround\u001b[0m\u001b[1;33m(\u001b[0m\u001b[0mend\u001b[0m\u001b[1;33m-\u001b[0m\u001b[0mstart\u001b[0m\u001b[1;33m,\u001b[0m\u001b[1;36m2\u001b[0m\u001b[1;33m)\u001b[0m \u001b[1;33m,\u001b[0m \u001b[1;34m' seconds'\u001b[0m\u001b[1;33m\u001b[0m\u001b[0m\n",
      "\u001b[1;31mNameError\u001b[0m: name 'gs_rf' is not defined"
     ]
    }
   ],
   "source": [
    "start = time.time()\n",
    "gs_rf.fit(x_train, y_train) \n",
    "end = time.time()\n",
    "print 'Time taken to train model : ', round(end-start,2) , ' seconds'"
   ]
  },
  {
   "cell_type": "code",
   "execution_count": 92,
   "metadata": {},
   "outputs": [
    {
     "name": "stdout",
     "output_type": "stream",
     "text": [
      "{'min_samples_split': 102, 'n_estimators': 100, 'max_depth': 24, 'min_samples_leaf': 25}\n"
     ]
    }
   ],
   "source": [
    "pickle.dump(gs_rf.best_estimator_, open('./data/twitch_rf_model.p', 'wb')) \n",
    "print gs_rf.best_params_"
   ]
  },
  {
   "cell_type": "code",
   "execution_count": 93,
   "metadata": {},
   "outputs": [
    {
     "name": "stdout",
     "output_type": "stream",
     "text": [
      "              precision    recall  f1-score   support\n",
      "\n",
      "           0       0.98      0.96      0.97     10768\n",
      "           1       0.96      0.98      0.97     10427\n",
      "\n",
      "   micro avg       0.97      0.97      0.97     21195\n",
      "   macro avg       0.97      0.97      0.97     21195\n",
      "weighted avg       0.97      0.97      0.97     21195\n",
      "\n"
     ]
    }
   ],
   "source": [
    "print classification_report(gs_rf.best_estimator_.predict(x_test), y_test) "
   ]
  },
  {
   "cell_type": "code",
   "execution_count": 94,
   "metadata": {},
   "outputs": [
    {
     "name": "stdout",
     "output_type": "stream",
     "text": [
      "[[10312   456]\n",
      " [  208 10219]]\n"
     ]
    }
   ],
   "source": [
    "print confusion_matrix(gs_rf.best_estimator_.predict(x_test), y_test) "
   ]
  },
  {
   "cell_type": "markdown",
   "metadata": {},
   "source": [
    "## 3. SVM"
   ]
  },
  {
   "cell_type": "code",
   "execution_count": 95,
   "metadata": {},
   "outputs": [],
   "source": [
    "kernels = ['rbf', 'linear']\n",
    "c_values = [0.001, 0.01, 0.1, 1]\n",
    "param_grid = {'kernel':kernels, 'C':c_values}\n",
    "\n",
    "gs_svm = GridSearchCV(cv=10, estimator=svm.SVC(), param_grid=param_grid)"
   ]
  },
  {
   "cell_type": "code",
   "execution_count": 97,
   "metadata": {},
   "outputs": [
    {
     "name": "stdout",
     "output_type": "stream",
     "text": [
      "Time taken to train model :  4013.46  seconds\n"
     ]
    }
   ],
   "source": [
    "start = time.time()\n",
    "gs_svm.fit(x_train, y_train)\n",
    "end = time.time()\n",
    "print 'Time taken to train model : ', round(end-start,2) , ' seconds'"
   ]
  },
  {
   "cell_type": "code",
   "execution_count": 98,
   "metadata": {},
   "outputs": [
    {
     "name": "stdout",
     "output_type": "stream",
     "text": [
      "{'kernel': 'linear', 'C': 1}\n"
     ]
    }
   ],
   "source": [
    "pickle.dump(gs_svm.best_estimator_, open('./data/twitch_svm_model.p', 'wb'))\n",
    "print gs_svm.best_params_"
   ]
  },
  {
   "cell_type": "code",
   "execution_count": 99,
   "metadata": {},
   "outputs": [
    {
     "name": "stdout",
     "output_type": "stream",
     "text": [
      "              precision    recall  f1-score   support\n",
      "\n",
      "           0       0.99      0.90      0.94     11525\n",
      "           1       0.89      0.99      0.94      9670\n",
      "\n",
      "   micro avg       0.94      0.94      0.94     21195\n",
      "   macro avg       0.94      0.94      0.94     21195\n",
      "weighted avg       0.94      0.94      0.94     21195\n",
      "\n"
     ]
    }
   ],
   "source": [
    "print classification_report(gs_svm.best_estimator_.predict(x_test), y_test)"
   ]
  },
  {
   "cell_type": "code",
   "execution_count": 100,
   "metadata": {},
   "outputs": [
    {
     "name": "stdout",
     "output_type": "stream",
     "text": [
      "[[10384  1141]\n",
      " [  136  9534]]\n"
     ]
    }
   ],
   "source": [
    "print confusion_matrix(gs_svm.best_estimator_.predict(x_test), y_test)"
   ]
  },
  {
   "cell_type": "markdown",
   "metadata": {},
   "source": [
    "# 4.AdaBoost"
   ]
  },
  {
   "cell_type": "code",
   "execution_count": 18,
   "metadata": {},
   "outputs": [],
   "source": [
    "grid = dict()\n",
    "grid['n_estimators'] = [10, 50, 100, 500]\n",
    "grid['learning_rate'] = [0.0001, 0.001, 0.01, 0.1, 1.0]"
   ]
  },
  {
   "cell_type": "code",
   "execution_count": 19,
   "metadata": {},
   "outputs": [],
   "source": [
    "model = AdaBoostClassifier()\n",
    "cv = RepeatedStratifiedKFold(n_splits=10, n_repeats=3, random_state=1)\n",
    "gs_ab = GridSearchCV(estimator=model, param_grid=grid, n_jobs=-1, cv=cv, scoring='accuracy')"
   ]
  },
  {
   "cell_type": "code",
   "execution_count": 20,
   "metadata": {},
   "outputs": [
    {
     "name": "stdout",
     "output_type": "stream",
     "text": [
      "Time taken to train model :  691.21  seconds\n"
     ]
    }
   ],
   "source": [
    "start = time.time()\n",
    "gs_ab.fit(x_train,y_train)\n",
    "end = time.time()\n",
    "print 'Time taken to train model : ', round(end-start,2) , ' seconds'"
   ]
  },
  {
   "cell_type": "code",
   "execution_count": 21,
   "metadata": {},
   "outputs": [
    {
     "name": "stdout",
     "output_type": "stream",
     "text": [
      "{'n_estimators': 10, 'learning_rate': 1.0}\n"
     ]
    }
   ],
   "source": [
    "pickle.dump(gs_ab.best_estimator_, open('./data/twitch_ab_model.p', 'wb')) \n",
    "print gs_ab.best_params_"
   ]
  },
  {
   "cell_type": "code",
   "execution_count": 22,
   "metadata": {},
   "outputs": [
    {
     "name": "stdout",
     "output_type": "stream",
     "text": [
      "              precision    recall  f1-score   support\n",
      "\n",
      "           0       0.96      0.96      0.96     10579\n",
      "           1       0.96      0.96      0.96     10616\n",
      "\n",
      "   micro avg       0.96      0.96      0.96     21195\n",
      "   macro avg       0.96      0.96      0.96     21195\n",
      "weighted avg       0.96      0.96      0.96     21195\n",
      "\n"
     ]
    }
   ],
   "source": [
    "print classification_report(gs_ab.best_estimator_.predict(x_test), y_test)"
   ]
  },
  {
   "cell_type": "code",
   "execution_count": 23,
   "metadata": {},
   "outputs": [
    {
     "name": "stdout",
     "output_type": "stream",
     "text": [
      "[[10132   447]\n",
      " [  388 10228]]\n"
     ]
    }
   ],
   "source": [
    "print confusion_matrix(gs_ab.best_estimator_.predict(x_test), y_test)"
   ]
  },
  {
   "cell_type": "code",
   "execution_count": null,
   "metadata": {},
   "outputs": [],
   "source": []
  }
 ],
 "metadata": {
  "kernelspec": {
   "display_name": "Python 2",
   "language": "python",
   "name": "python2"
  },
  "language_info": {
   "codemirror_mode": {
    "name": "ipython",
    "version": 2
   },
   "file_extension": ".py",
   "mimetype": "text/x-python",
   "name": "python",
   "nbconvert_exporter": "python",
   "pygments_lexer": "ipython2",
   "version": "2.7.16"
  }
 },
 "nbformat": 4,
 "nbformat_minor": 2
}
